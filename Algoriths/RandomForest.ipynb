{
  "nbformat": 4,
  "nbformat_minor": 0,
  "metadata": {
    "colab": {
      "provenance": []
    },
    "kernelspec": {
      "name": "python3",
      "display_name": "Python 3"
    },
    "language_info": {
      "name": "python"
    }
  },
  "cells": [
    {
      "cell_type": "code",
      "source": [
        "pip install tokenizer"
      ],
      "metadata": {
        "colab": {
          "base_uri": "https://localhost:8080/"
        },
        "id": "JXjTum__ZFhw",
        "outputId": "bc9b9563-00c1-475b-e515-9be9bd889b09"
      },
      "execution_count": 143,
      "outputs": [
        {
          "output_type": "stream",
          "name": "stdout",
          "text": [
            "Looking in indexes: https://pypi.org/simple, https://us-python.pkg.dev/colab-wheels/public/simple/\n",
            "Requirement already satisfied: tokenizer in /usr/local/lib/python3.9/dist-packages (3.4.2)\n"
          ]
        }
      ]
    },
    {
      "cell_type": "code",
      "execution_count": 144,
      "metadata": {
        "id": "mXPL1uMjwBAj"
      },
      "outputs": [],
      "source": [
        "import string\n",
        "\n",
        "import numpy as np\n",
        "import pandas as pd\n",
        "import re\n",
        "\n",
        "import nltk\n",
        "from nltk.corpus import stopwords\n",
        "from nltk.tokenize import TweetTokenizer\n",
        "\n",
        "from sklearn.model_selection import train_test_split\n",
        "from sklearn.feature_extraction.text import CountVectorizer, TfidfVectorizer\n",
        "\n",
        "from sklearn.ensemble import RandomForestClassifier\n",
        "\n",
        "from sklearn.pipeline import Pipeline\n",
        "from sklearn.model_selection import GridSearchCV\n",
        "\n",
        "from sklearn.metrics import ConfusionMatrixDisplay, precision_score, recall_score, f1_score\n",
        "\n",
        "from tokenizer import tokenizer as tk"
      ]
    },
    {
      "cell_type": "markdown",
      "source": [
        "#Lectura de los Datos."
      ],
      "metadata": {
        "id": "kjAdMi830CNl"
      }
    },
    {
      "cell_type": "code",
      "source": [
        "df = pd.read_csv('./MovieReviewzs_num.csv')\n",
        "print(df.shape)\n"
      ],
      "metadata": {
        "colab": {
          "base_uri": "https://localhost:8080/"
        },
        "id": "TYWh8F7J0Fjg",
        "outputId": "1a57dbd9-ca8f-4657-bcc5-db3758376649"
      },
      "execution_count": 145,
      "outputs": [
        {
          "output_type": "stream",
          "name": "stdout",
          "text": [
            "(5000, 3)\n"
          ]
        }
      ]
    },
    {
      "cell_type": "code",
      "source": [
        "df.head()"
      ],
      "metadata": {
        "colab": {
          "base_uri": "https://localhost:8080/",
          "height": 684
        },
        "id": "CNLACcM60RR0",
        "outputId": "ccccfb34-fafb-4670-f940-a1d9dd93a45e"
      },
      "execution_count": 146,
      "outputs": [
        {
          "output_type": "execute_result",
          "data": {
            "text/plain": [
              "   Unnamed: 0  \\\n",
              "0           0   \n",
              "1           1   \n",
              "2           2   \n",
              "3           3   \n",
              "4           4   \n",
              "\n",
              "                                                                                                                                                                                                                                                                                                                                                                                                                                                                                                                                                                                                                                                                                                                                                                                                                                                                                                                                                                                                                                                                                                                                                                                                                                                                                                                                                                                                                                                             review_es  \\\n",
              "0                                                                                                                                                                                                                                                                                                                                                  si está buscando una película de guerra típica esta no es así por lo que una nota a todos los aficionados a la guerra de ansiancia de carnajería de testosterona no se molesten aunque la película se trata de personajes rusos en la segunda guerra mundial no espere ver a ningún nazis cañones sangre sangre etc no es una película sobre las personas que causan una guerra o que luchan contra una guerra es una película sobre las personas ordinarias que le ocurren la guerra y las elecciones que hacen para tratar con ella cinematografía escritura todos los s perfectos aquí sin duda lo apreciarás si eres ruso como yo pero incluso si no probablemente lo ames si no habla ruso busque la versión dvd del dvd de ruscico russian cinema cinema tiene subtítulos en unos idiomas diferentes pero el doblaje inglés en este que diría es igual de bueno por supuesto no es tan bueno como la pista rusa original algunas cosas se pierden en la traducción sino tan buenas como los subtítulos en inglés así que vaya a revisarlo especialmente si está estudiando una película en cualquier aspecto    \n",
              "1                                                                                                                                                                             supongo que algunos directores de películas de lujo estaban sentados buscando su abrigo grappa aramangac o jugo de selva alguna noche en los años durante los cannes u otro festival de cine y uno dijo oye chicos hagamos una película donde cada uno de nosotros cree un segmento alrededor una clase mundial aria welllll tipo de tipo de trabajo claramente alguien fue lo suficientemente inteligente como para seleccionar algunas de las mejores grabaciones de las arias elegidas por ejemplo nessun dorma de bjoreling así que si estuvieras ciego y mintiendo en el piso simplemente escuchando el dvd obtuviste más que el valor de tu dinero no todos los directores lo sucedieron pero más lo hicieron lo que no y la película parece mejorar con cada visión a lo largo de los años mi favorito es el dúo de amor inquietantemente hermoso de die tod statd está bien un joven desnudo elizabeth hurley es ojos pero su marido cantó a ella el fantasma de su esposa es increíblemente hermoso con la música del amor segundo solo para gia nella notte densa de otello y desdemona en todo el repertorio operístico podría haber sido mejor el flick seguro lo que no podría haber sido pero vale la pena una visión especialmente de un estado de ánimo hiper romántico    \n",
              "2                                                                                                                                                                                                                                                                                                                                                                                                                                                                                                                                                                                      es difícil contarle más sobre esta película sin estropearla lo disfruté porque no esperaba lo que estaba viendo sino un drama sexual ordinario así que es un thriller de pscyho sexual en el que nada es lo que parece cuenta con emmanuelle seigner sin extraño al género y a la desnudez en la que su esposo polanski la había dirigido y un rendimiento espeluznante dije espeluznante sí espeluznante de toreton el actor de bernard tavernier parece que un pascal bruckner se encuentra con roman polanski mejor que la luna amarga como un chabrol que se fue por extravisos o thriller de clouzot he visto a alguien que menciona les diaboliques pero más cerca de georges franju s les yeux sans visage ojos sin cara lapadrino del dr phibes y más una gema solo me temo que lo hicieran en un remake de hollywood como lo hicieron con nighwatch y la desaparición    \n",
              "3  la película comienza muy lentamente con el estilo de vida de wallace napalm un asistente en una estación de entrega de fotografía su esposa ha sido restringida a su casa con un brazalete de tobillo como resultado de una oración para el incendio wallace es miembro del departamento de bomberos voluntarios y toma en serio incendio en serio observamos el procedimiento de vida bastante aburrida de wallace de repente llega algo nuevo y jarring un carnaval viajero llega a la ciudad una de sus estrellas es wilder napalm el hermano de wallace es un payaso pero tiene un talento especial sobre wallace ambos son pirocinadores ni pirótica personas capaces de iniciar incendios a través de la energía mental wallace mantiene su secreto de poderes wilder le permite conocer a sus conocidos lo que puede hacer spoiler algunas de sus diferencias regresan a un incidente de la infancia donde inadvertidamente causaron la muerte de un vagabundo wallace se espera de usar sus poderes wilder quiere ir al público en la televisión nacional tvelplicando el asunto wilder quiere la esposa de wallace a quienes ambos fechan los años antes se convierte en un hueso de contención y se convierte en una de las razones que los hermanos finalmente tienen una pelea de incendios literales la película es entretenida pero no se ríe graciosa pienso lo suficiente como para tener una copia en mi biblioteca es una buena película offbeat    \n",
              "4                                                                                                                                                                                                                                                                                                                                                                                                                                                                                                                                                                                                                                                                                                                   esta película es verdadera acción en su máxima expresión no es mejor que esto esta es una de esas películas que puedes simplemente comenzar y observar un buen buen disparo sin parar y matar más hay algunas líneas excelentes para acompañar todo esto mi favorito es que hay un chico malo que se está divirtiendo en esta casa de parejas viejas y él está robando un televisor o algo así y él va hasta ellos y grita voy a venir aquí en cualquier momento que me guste y justo antes de saltar por la ventana grita en cualquier momento me refiero a que esto es solo cosas clásicas por lo que tienes una opción puedes ver que el mierda smith intentara ir a una película de acción o puedes ver a uno de los maestros charles bronson    \n",
              "\n",
              "  sentimiento  \n",
              "0    positivo  \n",
              "1    positivo  \n",
              "2    positivo  \n",
              "3    positivo  \n",
              "4    positivo  "
            ],
            "text/html": [
              "\n",
              "  <div id=\"df-7df960f0-9fae-4950-a07a-a80adc4d7cb0\">\n",
              "    <div class=\"colab-df-container\">\n",
              "      <div>\n",
              "<style scoped>\n",
              "    .dataframe tbody tr th:only-of-type {\n",
              "        vertical-align: middle;\n",
              "    }\n",
              "\n",
              "    .dataframe tbody tr th {\n",
              "        vertical-align: top;\n",
              "    }\n",
              "\n",
              "    .dataframe thead th {\n",
              "        text-align: right;\n",
              "    }\n",
              "</style>\n",
              "<table border=\"1\" class=\"dataframe\">\n",
              "  <thead>\n",
              "    <tr style=\"text-align: right;\">\n",
              "      <th></th>\n",
              "      <th>Unnamed: 0</th>\n",
              "      <th>review_es</th>\n",
              "      <th>sentimiento</th>\n",
              "    </tr>\n",
              "  </thead>\n",
              "  <tbody>\n",
              "    <tr>\n",
              "      <th>0</th>\n",
              "      <td>0</td>\n",
              "      <td>si está buscando una película de guerra típica esta no es así por lo que una nota a todos los aficionados a la guerra de ansiancia de carnajería de testosterona no se molesten aunque la película se trata de personajes rusos en la segunda guerra mundial no espere ver a ningún nazis cañones sangre sangre etc no es una película sobre las personas que causan una guerra o que luchan contra una guerra es una película sobre las personas ordinarias que le ocurren la guerra y las elecciones que hacen para tratar con ella cinematografía escritura todos los s perfectos aquí sin duda lo apreciarás si eres ruso como yo pero incluso si no probablemente lo ames si no habla ruso busque la versión dvd del dvd de ruscico russian cinema cinema tiene subtítulos en unos idiomas diferentes pero el doblaje inglés en este que diría es igual de bueno por supuesto no es tan bueno como la pista rusa original algunas cosas se pierden en la traducción sino tan buenas como los subtítulos en inglés así que vaya a revisarlo especialmente si está estudiando una película en cualquier aspecto</td>\n",
              "      <td>positivo</td>\n",
              "    </tr>\n",
              "    <tr>\n",
              "      <th>1</th>\n",
              "      <td>1</td>\n",
              "      <td>supongo que algunos directores de películas de lujo estaban sentados buscando su abrigo grappa aramangac o jugo de selva alguna noche en los años durante los cannes u otro festival de cine y uno dijo oye chicos hagamos una película donde cada uno de nosotros cree un segmento alrededor una clase mundial aria welllll tipo de tipo de trabajo claramente alguien fue lo suficientemente inteligente como para seleccionar algunas de las mejores grabaciones de las arias elegidas por ejemplo nessun dorma de bjoreling así que si estuvieras ciego y mintiendo en el piso simplemente escuchando el dvd obtuviste más que el valor de tu dinero no todos los directores lo sucedieron pero más lo hicieron lo que no y la película parece mejorar con cada visión a lo largo de los años mi favorito es el dúo de amor inquietantemente hermoso de die tod statd está bien un joven desnudo elizabeth hurley es ojos pero su marido cantó a ella el fantasma de su esposa es increíblemente hermoso con la música del amor segundo solo para gia nella notte densa de otello y desdemona en todo el repertorio operístico podría haber sido mejor el flick seguro lo que no podría haber sido pero vale la pena una visión especialmente de un estado de ánimo hiper romántico</td>\n",
              "      <td>positivo</td>\n",
              "    </tr>\n",
              "    <tr>\n",
              "      <th>2</th>\n",
              "      <td>2</td>\n",
              "      <td>es difícil contarle más sobre esta película sin estropearla lo disfruté porque no esperaba lo que estaba viendo sino un drama sexual ordinario así que es un thriller de pscyho sexual en el que nada es lo que parece cuenta con emmanuelle seigner sin extraño al género y a la desnudez en la que su esposo polanski la había dirigido y un rendimiento espeluznante dije espeluznante sí espeluznante de toreton el actor de bernard tavernier parece que un pascal bruckner se encuentra con roman polanski mejor que la luna amarga como un chabrol que se fue por extravisos o thriller de clouzot he visto a alguien que menciona les diaboliques pero más cerca de georges franju s les yeux sans visage ojos sin cara lapadrino del dr phibes y más una gema solo me temo que lo hicieran en un remake de hollywood como lo hicieron con nighwatch y la desaparición</td>\n",
              "      <td>positivo</td>\n",
              "    </tr>\n",
              "    <tr>\n",
              "      <th>3</th>\n",
              "      <td>3</td>\n",
              "      <td>la película comienza muy lentamente con el estilo de vida de wallace napalm un asistente en una estación de entrega de fotografía su esposa ha sido restringida a su casa con un brazalete de tobillo como resultado de una oración para el incendio wallace es miembro del departamento de bomberos voluntarios y toma en serio incendio en serio observamos el procedimiento de vida bastante aburrida de wallace de repente llega algo nuevo y jarring un carnaval viajero llega a la ciudad una de sus estrellas es wilder napalm el hermano de wallace es un payaso pero tiene un talento especial sobre wallace ambos son pirocinadores ni pirótica personas capaces de iniciar incendios a través de la energía mental wallace mantiene su secreto de poderes wilder le permite conocer a sus conocidos lo que puede hacer spoiler algunas de sus diferencias regresan a un incidente de la infancia donde inadvertidamente causaron la muerte de un vagabundo wallace se espera de usar sus poderes wilder quiere ir al público en la televisión nacional tvelplicando el asunto wilder quiere la esposa de wallace a quienes ambos fechan los años antes se convierte en un hueso de contención y se convierte en una de las razones que los hermanos finalmente tienen una pelea de incendios literales la película es entretenida pero no se ríe graciosa pienso lo suficiente como para tener una copia en mi biblioteca es una buena película offbeat</td>\n",
              "      <td>positivo</td>\n",
              "    </tr>\n",
              "    <tr>\n",
              "      <th>4</th>\n",
              "      <td>4</td>\n",
              "      <td>esta película es verdadera acción en su máxima expresión no es mejor que esto esta es una de esas películas que puedes simplemente comenzar y observar un buen buen disparo sin parar y matar más hay algunas líneas excelentes para acompañar todo esto mi favorito es que hay un chico malo que se está divirtiendo en esta casa de parejas viejas y él está robando un televisor o algo así y él va hasta ellos y grita voy a venir aquí en cualquier momento que me guste y justo antes de saltar por la ventana grita en cualquier momento me refiero a que esto es solo cosas clásicas por lo que tienes una opción puedes ver que el mierda smith intentara ir a una película de acción o puedes ver a uno de los maestros charles bronson</td>\n",
              "      <td>positivo</td>\n",
              "    </tr>\n",
              "  </tbody>\n",
              "</table>\n",
              "</div>\n",
              "      <button class=\"colab-df-convert\" onclick=\"convertToInteractive('df-7df960f0-9fae-4950-a07a-a80adc4d7cb0')\"\n",
              "              title=\"Convert this dataframe to an interactive table.\"\n",
              "              style=\"display:none;\">\n",
              "        \n",
              "  <svg xmlns=\"http://www.w3.org/2000/svg\" height=\"24px\"viewBox=\"0 0 24 24\"\n",
              "       width=\"24px\">\n",
              "    <path d=\"M0 0h24v24H0V0z\" fill=\"none\"/>\n",
              "    <path d=\"M18.56 5.44l.94 2.06.94-2.06 2.06-.94-2.06-.94-.94-2.06-.94 2.06-2.06.94zm-11 1L8.5 8.5l.94-2.06 2.06-.94-2.06-.94L8.5 2.5l-.94 2.06-2.06.94zm10 10l.94 2.06.94-2.06 2.06-.94-2.06-.94-.94-2.06-.94 2.06-2.06.94z\"/><path d=\"M17.41 7.96l-1.37-1.37c-.4-.4-.92-.59-1.43-.59-.52 0-1.04.2-1.43.59L10.3 9.45l-7.72 7.72c-.78.78-.78 2.05 0 2.83L4 21.41c.39.39.9.59 1.41.59.51 0 1.02-.2 1.41-.59l7.78-7.78 2.81-2.81c.8-.78.8-2.07 0-2.86zM5.41 20L4 18.59l7.72-7.72 1.47 1.35L5.41 20z\"/>\n",
              "  </svg>\n",
              "      </button>\n",
              "      \n",
              "  <style>\n",
              "    .colab-df-container {\n",
              "      display:flex;\n",
              "      flex-wrap:wrap;\n",
              "      gap: 12px;\n",
              "    }\n",
              "\n",
              "    .colab-df-convert {\n",
              "      background-color: #E8F0FE;\n",
              "      border: none;\n",
              "      border-radius: 50%;\n",
              "      cursor: pointer;\n",
              "      display: none;\n",
              "      fill: #1967D2;\n",
              "      height: 32px;\n",
              "      padding: 0 0 0 0;\n",
              "      width: 32px;\n",
              "    }\n",
              "\n",
              "    .colab-df-convert:hover {\n",
              "      background-color: #E2EBFA;\n",
              "      box-shadow: 0px 1px 2px rgba(60, 64, 67, 0.3), 0px 1px 3px 1px rgba(60, 64, 67, 0.15);\n",
              "      fill: #174EA6;\n",
              "    }\n",
              "\n",
              "    [theme=dark] .colab-df-convert {\n",
              "      background-color: #3B4455;\n",
              "      fill: #D2E3FC;\n",
              "    }\n",
              "\n",
              "    [theme=dark] .colab-df-convert:hover {\n",
              "      background-color: #434B5C;\n",
              "      box-shadow: 0px 1px 3px 1px rgba(0, 0, 0, 0.15);\n",
              "      filter: drop-shadow(0px 1px 2px rgba(0, 0, 0, 0.3));\n",
              "      fill: #FFFFFF;\n",
              "    }\n",
              "  </style>\n",
              "\n",
              "      <script>\n",
              "        const buttonEl =\n",
              "          document.querySelector('#df-7df960f0-9fae-4950-a07a-a80adc4d7cb0 button.colab-df-convert');\n",
              "        buttonEl.style.display =\n",
              "          google.colab.kernel.accessAllowed ? 'block' : 'none';\n",
              "\n",
              "        async function convertToInteractive(key) {\n",
              "          const element = document.querySelector('#df-7df960f0-9fae-4950-a07a-a80adc4d7cb0');\n",
              "          const dataTable =\n",
              "            await google.colab.kernel.invokeFunction('convertToInteractive',\n",
              "                                                     [key], {});\n",
              "          if (!dataTable) return;\n",
              "\n",
              "          const docLinkHtml = 'Like what you see? Visit the ' +\n",
              "            '<a target=\"_blank\" href=https://colab.research.google.com/notebooks/data_table.ipynb>data table notebook</a>'\n",
              "            + ' to learn more about interactive tables.';\n",
              "          element.innerHTML = '';\n",
              "          dataTable['output_type'] = 'display_data';\n",
              "          await google.colab.output.renderOutput(dataTable, element);\n",
              "          const docLink = document.createElement('div');\n",
              "          docLink.innerHTML = docLinkHtml;\n",
              "          element.appendChild(docLink);\n",
              "        }\n",
              "      </script>\n",
              "    </div>\n",
              "  </div>\n",
              "  "
            ]
          },
          "metadata": {},
          "execution_count": 146
        }
      ]
    },
    {
      "cell_type": "code",
      "source": [
        "df = df.rename({'Unnamed: 0': 'id'},axis=1)\n",
        "\n",
        "df.head()"
      ],
      "metadata": {
        "colab": {
          "base_uri": "https://localhost:8080/",
          "height": 649
        },
        "id": "i53WM7rc1kCw",
        "outputId": "fe93f0af-b891-4bc6-ee00-5dc05e80287f"
      },
      "execution_count": 147,
      "outputs": [
        {
          "output_type": "execute_result",
          "data": {
            "text/plain": [
              "   id  \\\n",
              "0   0   \n",
              "1   1   \n",
              "2   2   \n",
              "3   3   \n",
              "4   4   \n",
              "\n",
              "                                                                                                                                                                                                                                                                                                                                                                                                                                                                                                                                                                                                                                                                                                                                                                                                                                                                                                                                                                                                                                                                                                                                                                                                                                                                                                                                                                                                                                                             review_es  \\\n",
              "0                                                                                                                                                                                                                                                                                                                                                  si está buscando una película de guerra típica esta no es así por lo que una nota a todos los aficionados a la guerra de ansiancia de carnajería de testosterona no se molesten aunque la película se trata de personajes rusos en la segunda guerra mundial no espere ver a ningún nazis cañones sangre sangre etc no es una película sobre las personas que causan una guerra o que luchan contra una guerra es una película sobre las personas ordinarias que le ocurren la guerra y las elecciones que hacen para tratar con ella cinematografía escritura todos los s perfectos aquí sin duda lo apreciarás si eres ruso como yo pero incluso si no probablemente lo ames si no habla ruso busque la versión dvd del dvd de ruscico russian cinema cinema tiene subtítulos en unos idiomas diferentes pero el doblaje inglés en este que diría es igual de bueno por supuesto no es tan bueno como la pista rusa original algunas cosas se pierden en la traducción sino tan buenas como los subtítulos en inglés así que vaya a revisarlo especialmente si está estudiando una película en cualquier aspecto    \n",
              "1                                                                                                                                                                             supongo que algunos directores de películas de lujo estaban sentados buscando su abrigo grappa aramangac o jugo de selva alguna noche en los años durante los cannes u otro festival de cine y uno dijo oye chicos hagamos una película donde cada uno de nosotros cree un segmento alrededor una clase mundial aria welllll tipo de tipo de trabajo claramente alguien fue lo suficientemente inteligente como para seleccionar algunas de las mejores grabaciones de las arias elegidas por ejemplo nessun dorma de bjoreling así que si estuvieras ciego y mintiendo en el piso simplemente escuchando el dvd obtuviste más que el valor de tu dinero no todos los directores lo sucedieron pero más lo hicieron lo que no y la película parece mejorar con cada visión a lo largo de los años mi favorito es el dúo de amor inquietantemente hermoso de die tod statd está bien un joven desnudo elizabeth hurley es ojos pero su marido cantó a ella el fantasma de su esposa es increíblemente hermoso con la música del amor segundo solo para gia nella notte densa de otello y desdemona en todo el repertorio operístico podría haber sido mejor el flick seguro lo que no podría haber sido pero vale la pena una visión especialmente de un estado de ánimo hiper romántico    \n",
              "2                                                                                                                                                                                                                                                                                                                                                                                                                                                                                                                                                                                      es difícil contarle más sobre esta película sin estropearla lo disfruté porque no esperaba lo que estaba viendo sino un drama sexual ordinario así que es un thriller de pscyho sexual en el que nada es lo que parece cuenta con emmanuelle seigner sin extraño al género y a la desnudez en la que su esposo polanski la había dirigido y un rendimiento espeluznante dije espeluznante sí espeluznante de toreton el actor de bernard tavernier parece que un pascal bruckner se encuentra con roman polanski mejor que la luna amarga como un chabrol que se fue por extravisos o thriller de clouzot he visto a alguien que menciona les diaboliques pero más cerca de georges franju s les yeux sans visage ojos sin cara lapadrino del dr phibes y más una gema solo me temo que lo hicieran en un remake de hollywood como lo hicieron con nighwatch y la desaparición    \n",
              "3  la película comienza muy lentamente con el estilo de vida de wallace napalm un asistente en una estación de entrega de fotografía su esposa ha sido restringida a su casa con un brazalete de tobillo como resultado de una oración para el incendio wallace es miembro del departamento de bomberos voluntarios y toma en serio incendio en serio observamos el procedimiento de vida bastante aburrida de wallace de repente llega algo nuevo y jarring un carnaval viajero llega a la ciudad una de sus estrellas es wilder napalm el hermano de wallace es un payaso pero tiene un talento especial sobre wallace ambos son pirocinadores ni pirótica personas capaces de iniciar incendios a través de la energía mental wallace mantiene su secreto de poderes wilder le permite conocer a sus conocidos lo que puede hacer spoiler algunas de sus diferencias regresan a un incidente de la infancia donde inadvertidamente causaron la muerte de un vagabundo wallace se espera de usar sus poderes wilder quiere ir al público en la televisión nacional tvelplicando el asunto wilder quiere la esposa de wallace a quienes ambos fechan los años antes se convierte en un hueso de contención y se convierte en una de las razones que los hermanos finalmente tienen una pelea de incendios literales la película es entretenida pero no se ríe graciosa pienso lo suficiente como para tener una copia en mi biblioteca es una buena película offbeat    \n",
              "4                                                                                                                                                                                                                                                                                                                                                                                                                                                                                                                                                                                                                                                                                                                   esta película es verdadera acción en su máxima expresión no es mejor que esto esta es una de esas películas que puedes simplemente comenzar y observar un buen buen disparo sin parar y matar más hay algunas líneas excelentes para acompañar todo esto mi favorito es que hay un chico malo que se está divirtiendo en esta casa de parejas viejas y él está robando un televisor o algo así y él va hasta ellos y grita voy a venir aquí en cualquier momento que me guste y justo antes de saltar por la ventana grita en cualquier momento me refiero a que esto es solo cosas clásicas por lo que tienes una opción puedes ver que el mierda smith intentara ir a una película de acción o puedes ver a uno de los maestros charles bronson    \n",
              "\n",
              "  sentimiento  \n",
              "0    positivo  \n",
              "1    positivo  \n",
              "2    positivo  \n",
              "3    positivo  \n",
              "4    positivo  "
            ],
            "text/html": [
              "\n",
              "  <div id=\"df-5e968c57-d25f-4b9a-ba7c-570d664ffccf\">\n",
              "    <div class=\"colab-df-container\">\n",
              "      <div>\n",
              "<style scoped>\n",
              "    .dataframe tbody tr th:only-of-type {\n",
              "        vertical-align: middle;\n",
              "    }\n",
              "\n",
              "    .dataframe tbody tr th {\n",
              "        vertical-align: top;\n",
              "    }\n",
              "\n",
              "    .dataframe thead th {\n",
              "        text-align: right;\n",
              "    }\n",
              "</style>\n",
              "<table border=\"1\" class=\"dataframe\">\n",
              "  <thead>\n",
              "    <tr style=\"text-align: right;\">\n",
              "      <th></th>\n",
              "      <th>id</th>\n",
              "      <th>review_es</th>\n",
              "      <th>sentimiento</th>\n",
              "    </tr>\n",
              "  </thead>\n",
              "  <tbody>\n",
              "    <tr>\n",
              "      <th>0</th>\n",
              "      <td>0</td>\n",
              "      <td>si está buscando una película de guerra típica esta no es así por lo que una nota a todos los aficionados a la guerra de ansiancia de carnajería de testosterona no se molesten aunque la película se trata de personajes rusos en la segunda guerra mundial no espere ver a ningún nazis cañones sangre sangre etc no es una película sobre las personas que causan una guerra o que luchan contra una guerra es una película sobre las personas ordinarias que le ocurren la guerra y las elecciones que hacen para tratar con ella cinematografía escritura todos los s perfectos aquí sin duda lo apreciarás si eres ruso como yo pero incluso si no probablemente lo ames si no habla ruso busque la versión dvd del dvd de ruscico russian cinema cinema tiene subtítulos en unos idiomas diferentes pero el doblaje inglés en este que diría es igual de bueno por supuesto no es tan bueno como la pista rusa original algunas cosas se pierden en la traducción sino tan buenas como los subtítulos en inglés así que vaya a revisarlo especialmente si está estudiando una película en cualquier aspecto</td>\n",
              "      <td>positivo</td>\n",
              "    </tr>\n",
              "    <tr>\n",
              "      <th>1</th>\n",
              "      <td>1</td>\n",
              "      <td>supongo que algunos directores de películas de lujo estaban sentados buscando su abrigo grappa aramangac o jugo de selva alguna noche en los años durante los cannes u otro festival de cine y uno dijo oye chicos hagamos una película donde cada uno de nosotros cree un segmento alrededor una clase mundial aria welllll tipo de tipo de trabajo claramente alguien fue lo suficientemente inteligente como para seleccionar algunas de las mejores grabaciones de las arias elegidas por ejemplo nessun dorma de bjoreling así que si estuvieras ciego y mintiendo en el piso simplemente escuchando el dvd obtuviste más que el valor de tu dinero no todos los directores lo sucedieron pero más lo hicieron lo que no y la película parece mejorar con cada visión a lo largo de los años mi favorito es el dúo de amor inquietantemente hermoso de die tod statd está bien un joven desnudo elizabeth hurley es ojos pero su marido cantó a ella el fantasma de su esposa es increíblemente hermoso con la música del amor segundo solo para gia nella notte densa de otello y desdemona en todo el repertorio operístico podría haber sido mejor el flick seguro lo que no podría haber sido pero vale la pena una visión especialmente de un estado de ánimo hiper romántico</td>\n",
              "      <td>positivo</td>\n",
              "    </tr>\n",
              "    <tr>\n",
              "      <th>2</th>\n",
              "      <td>2</td>\n",
              "      <td>es difícil contarle más sobre esta película sin estropearla lo disfruté porque no esperaba lo que estaba viendo sino un drama sexual ordinario así que es un thriller de pscyho sexual en el que nada es lo que parece cuenta con emmanuelle seigner sin extraño al género y a la desnudez en la que su esposo polanski la había dirigido y un rendimiento espeluznante dije espeluznante sí espeluznante de toreton el actor de bernard tavernier parece que un pascal bruckner se encuentra con roman polanski mejor que la luna amarga como un chabrol que se fue por extravisos o thriller de clouzot he visto a alguien que menciona les diaboliques pero más cerca de georges franju s les yeux sans visage ojos sin cara lapadrino del dr phibes y más una gema solo me temo que lo hicieran en un remake de hollywood como lo hicieron con nighwatch y la desaparición</td>\n",
              "      <td>positivo</td>\n",
              "    </tr>\n",
              "    <tr>\n",
              "      <th>3</th>\n",
              "      <td>3</td>\n",
              "      <td>la película comienza muy lentamente con el estilo de vida de wallace napalm un asistente en una estación de entrega de fotografía su esposa ha sido restringida a su casa con un brazalete de tobillo como resultado de una oración para el incendio wallace es miembro del departamento de bomberos voluntarios y toma en serio incendio en serio observamos el procedimiento de vida bastante aburrida de wallace de repente llega algo nuevo y jarring un carnaval viajero llega a la ciudad una de sus estrellas es wilder napalm el hermano de wallace es un payaso pero tiene un talento especial sobre wallace ambos son pirocinadores ni pirótica personas capaces de iniciar incendios a través de la energía mental wallace mantiene su secreto de poderes wilder le permite conocer a sus conocidos lo que puede hacer spoiler algunas de sus diferencias regresan a un incidente de la infancia donde inadvertidamente causaron la muerte de un vagabundo wallace se espera de usar sus poderes wilder quiere ir al público en la televisión nacional tvelplicando el asunto wilder quiere la esposa de wallace a quienes ambos fechan los años antes se convierte en un hueso de contención y se convierte en una de las razones que los hermanos finalmente tienen una pelea de incendios literales la película es entretenida pero no se ríe graciosa pienso lo suficiente como para tener una copia en mi biblioteca es una buena película offbeat</td>\n",
              "      <td>positivo</td>\n",
              "    </tr>\n",
              "    <tr>\n",
              "      <th>4</th>\n",
              "      <td>4</td>\n",
              "      <td>esta película es verdadera acción en su máxima expresión no es mejor que esto esta es una de esas películas que puedes simplemente comenzar y observar un buen buen disparo sin parar y matar más hay algunas líneas excelentes para acompañar todo esto mi favorito es que hay un chico malo que se está divirtiendo en esta casa de parejas viejas y él está robando un televisor o algo así y él va hasta ellos y grita voy a venir aquí en cualquier momento que me guste y justo antes de saltar por la ventana grita en cualquier momento me refiero a que esto es solo cosas clásicas por lo que tienes una opción puedes ver que el mierda smith intentara ir a una película de acción o puedes ver a uno de los maestros charles bronson</td>\n",
              "      <td>positivo</td>\n",
              "    </tr>\n",
              "  </tbody>\n",
              "</table>\n",
              "</div>\n",
              "      <button class=\"colab-df-convert\" onclick=\"convertToInteractive('df-5e968c57-d25f-4b9a-ba7c-570d664ffccf')\"\n",
              "              title=\"Convert this dataframe to an interactive table.\"\n",
              "              style=\"display:none;\">\n",
              "        \n",
              "  <svg xmlns=\"http://www.w3.org/2000/svg\" height=\"24px\"viewBox=\"0 0 24 24\"\n",
              "       width=\"24px\">\n",
              "    <path d=\"M0 0h24v24H0V0z\" fill=\"none\"/>\n",
              "    <path d=\"M18.56 5.44l.94 2.06.94-2.06 2.06-.94-2.06-.94-.94-2.06-.94 2.06-2.06.94zm-11 1L8.5 8.5l.94-2.06 2.06-.94-2.06-.94L8.5 2.5l-.94 2.06-2.06.94zm10 10l.94 2.06.94-2.06 2.06-.94-2.06-.94-.94-2.06-.94 2.06-2.06.94z\"/><path d=\"M17.41 7.96l-1.37-1.37c-.4-.4-.92-.59-1.43-.59-.52 0-1.04.2-1.43.59L10.3 9.45l-7.72 7.72c-.78.78-.78 2.05 0 2.83L4 21.41c.39.39.9.59 1.41.59.51 0 1.02-.2 1.41-.59l7.78-7.78 2.81-2.81c.8-.78.8-2.07 0-2.86zM5.41 20L4 18.59l7.72-7.72 1.47 1.35L5.41 20z\"/>\n",
              "  </svg>\n",
              "      </button>\n",
              "      \n",
              "  <style>\n",
              "    .colab-df-container {\n",
              "      display:flex;\n",
              "      flex-wrap:wrap;\n",
              "      gap: 12px;\n",
              "    }\n",
              "\n",
              "    .colab-df-convert {\n",
              "      background-color: #E8F0FE;\n",
              "      border: none;\n",
              "      border-radius: 50%;\n",
              "      cursor: pointer;\n",
              "      display: none;\n",
              "      fill: #1967D2;\n",
              "      height: 32px;\n",
              "      padding: 0 0 0 0;\n",
              "      width: 32px;\n",
              "    }\n",
              "\n",
              "    .colab-df-convert:hover {\n",
              "      background-color: #E2EBFA;\n",
              "      box-shadow: 0px 1px 2px rgba(60, 64, 67, 0.3), 0px 1px 3px 1px rgba(60, 64, 67, 0.15);\n",
              "      fill: #174EA6;\n",
              "    }\n",
              "\n",
              "    [theme=dark] .colab-df-convert {\n",
              "      background-color: #3B4455;\n",
              "      fill: #D2E3FC;\n",
              "    }\n",
              "\n",
              "    [theme=dark] .colab-df-convert:hover {\n",
              "      background-color: #434B5C;\n",
              "      box-shadow: 0px 1px 3px 1px rgba(0, 0, 0, 0.15);\n",
              "      filter: drop-shadow(0px 1px 2px rgba(0, 0, 0, 0.3));\n",
              "      fill: #FFFFFF;\n",
              "    }\n",
              "  </style>\n",
              "\n",
              "      <script>\n",
              "        const buttonEl =\n",
              "          document.querySelector('#df-5e968c57-d25f-4b9a-ba7c-570d664ffccf button.colab-df-convert');\n",
              "        buttonEl.style.display =\n",
              "          google.colab.kernel.accessAllowed ? 'block' : 'none';\n",
              "\n",
              "        async function convertToInteractive(key) {\n",
              "          const element = document.querySelector('#df-5e968c57-d25f-4b9a-ba7c-570d664ffccf');\n",
              "          const dataTable =\n",
              "            await google.colab.kernel.invokeFunction('convertToInteractive',\n",
              "                                                     [key], {});\n",
              "          if (!dataTable) return;\n",
              "\n",
              "          const docLinkHtml = 'Like what you see? Visit the ' +\n",
              "            '<a target=\"_blank\" href=https://colab.research.google.com/notebooks/data_table.ipynb>data table notebook</a>'\n",
              "            + ' to learn more about interactive tables.';\n",
              "          element.innerHTML = '';\n",
              "          dataTable['output_type'] = 'display_data';\n",
              "          await google.colab.output.renderOutput(dataTable, element);\n",
              "          const docLink = document.createElement('div');\n",
              "          docLink.innerHTML = docLinkHtml;\n",
              "          element.appendChild(docLink);\n",
              "        }\n",
              "      </script>\n",
              "    </div>\n",
              "  </div>\n",
              "  "
            ]
          },
          "metadata": {},
          "execution_count": 147
        }
      ]
    },
    {
      "cell_type": "code",
      "source": [
        "df['sentimiento'].value_counts(dropna = False, normalize = True)"
      ],
      "metadata": {
        "colab": {
          "base_uri": "https://localhost:8080/"
        },
        "id": "zxx5nSa6ABq5",
        "outputId": "77278735-3de3-4682-92b6-630b7f00f878"
      },
      "execution_count": 148,
      "outputs": [
        {
          "output_type": "execute_result",
          "data": {
            "text/plain": [
              "positivo    0.5\n",
              "negativo    0.5\n",
              "Name: sentimiento, dtype: float64"
            ]
          },
          "metadata": {},
          "execution_count": 148
        }
      ]
    },
    {
      "cell_type": "code",
      "source": [
        "pd.set_option('display.max_colwidth', None)"
      ],
      "metadata": {
        "id": "O0Udu4k3YWPB"
      },
      "execution_count": 149,
      "outputs": []
    },
    {
      "cell_type": "code",
      "source": [
        "# Descargando las stopwords\n",
        "nltk.download('stopwords')\n",
        "sp_stop_words = set(stopwords.words('spanish'))"
      ],
      "metadata": {
        "colab": {
          "base_uri": "https://localhost:8080/"
        },
        "id": "TtLIUOzUYuw4",
        "outputId": "3081f00c-397e-4561-f8d7-fbe3ad1cb94d"
      },
      "execution_count": 150,
      "outputs": [
        {
          "output_type": "stream",
          "name": "stderr",
          "text": [
            "[nltk_data] Downloading package stopwords to /root/nltk_data...\n",
            "[nltk_data]   Package stopwords is already up-to-date!\n"
          ]
        }
      ]
    },
    {
      "cell_type": "code",
      "source": [
        "spanish_stopwords = stopwords.words('spanish')"
      ],
      "metadata": {
        "id": "MT2ViBCMffiL"
      },
      "execution_count": 151,
      "outputs": []
    },
    {
      "cell_type": "code",
      "source": [
        "# Función para tokenizar los comments\n",
        "def tokenizer(text):\n",
        "     # Replace all non-alphanumeric characters with whitespace\n",
        "    text = re.sub(r'[^\\w\\s]', ' ', text)\n",
        "\n",
        "    # Convert all text to lowercase\n",
        "    text = text.lower()\n",
        "\n",
        "    # Split text into tokens\n",
        "    tokens = text.split()\n",
        "\n",
        "    return tokens"
      ],
      "metadata": {
        "id": "IFj80YjvcFIu"
      },
      "execution_count": 152,
      "outputs": []
    },
    {
      "cell_type": "code",
      "source": [
        "comments_labeled_df = df.loc[df['sentimiento'].notnull()]"
      ],
      "metadata": {
        "id": "D-9sibgcZa7R"
      },
      "execution_count": 153,
      "outputs": []
    },
    {
      "cell_type": "code",
      "source": [
        "# comments a ser usados para entrenar y evaluar el modelo\n",
        "comments_labeled_df.shape"
      ],
      "metadata": {
        "colab": {
          "base_uri": "https://localhost:8080/"
        },
        "id": "hbfdzqIrZqCb",
        "outputId": "5c3ab8bf-3fd2-4781-f17a-c589c1da3eaf"
      },
      "execution_count": 154,
      "outputs": [
        {
          "output_type": "execute_result",
          "data": {
            "text/plain": [
              "(5000, 3)"
            ]
          },
          "metadata": {},
          "execution_count": 154
        }
      ]
    },
    {
      "cell_type": "code",
      "source": [
        "#Working only with positivo and negativo\n",
        "comments_labeled_df = comments_labeled_df.loc[comments_labeled_df['sentimiento'].isin(['positivo', 'negativo'])]"
      ],
      "metadata": {
        "id": "GO2hIlE6ZtHH"
      },
      "execution_count": 155,
      "outputs": []
    },
    {
      "cell_type": "code",
      "source": [
        "comments_labeled_df['sentimiento'].value_counts(dropna = False, normalize = True)"
      ],
      "metadata": {
        "colab": {
          "base_uri": "https://localhost:8080/"
        },
        "id": "gpYtHkKlaMHN",
        "outputId": "84eb3643-e339-4f2c-c084-cedc6aa35f6b"
      },
      "execution_count": 156,
      "outputs": [
        {
          "output_type": "execute_result",
          "data": {
            "text/plain": [
              "positivo    0.5\n",
              "negativo    0.5\n",
              "Name: sentimiento, dtype: float64"
            ]
          },
          "metadata": {},
          "execution_count": 156
        }
      ]
    },
    {
      "cell_type": "code",
      "source": [
        "comments_labeled_df['sentimiento'].value_counts(dropna = False, normalize = True)"
      ],
      "metadata": {
        "colab": {
          "base_uri": "https://localhost:8080/"
        },
        "id": "bvEsVo0TaRqG",
        "outputId": "39e6a9eb-e2ce-4b59-a54a-2d352befb8b8"
      },
      "execution_count": 157,
      "outputs": [
        {
          "output_type": "execute_result",
          "data": {
            "text/plain": [
              "positivo    0.5\n",
              "negativo    0.5\n",
              "Name: sentimiento, dtype: float64"
            ]
          },
          "metadata": {},
          "execution_count": 157
        }
      ]
    },
    {
      "cell_type": "code",
      "source": [
        "comments_labeled_df.head()\n"
      ],
      "metadata": {
        "colab": {
          "base_uri": "https://localhost:8080/",
          "height": 649
        },
        "id": "8BIA7Xb-am_5",
        "outputId": "b52b256f-a6b5-4bd3-e106-700ecf485cda"
      },
      "execution_count": 158,
      "outputs": [
        {
          "output_type": "execute_result",
          "data": {
            "text/plain": [
              "   id  \\\n",
              "0   0   \n",
              "1   1   \n",
              "2   2   \n",
              "3   3   \n",
              "4   4   \n",
              "\n",
              "                                                                                                                                                                                                                                                                                                                                                                                                                                                                                                                                                                                                                                                                                                                                                                                                                                                                                                                                                                                                                                                                                                                                                                                                                                                                                                                                                                                                                                                             review_es  \\\n",
              "0                                                                                                                                                                                                                                                                                                                                                  si está buscando una película de guerra típica esta no es así por lo que una nota a todos los aficionados a la guerra de ansiancia de carnajería de testosterona no se molesten aunque la película se trata de personajes rusos en la segunda guerra mundial no espere ver a ningún nazis cañones sangre sangre etc no es una película sobre las personas que causan una guerra o que luchan contra una guerra es una película sobre las personas ordinarias que le ocurren la guerra y las elecciones que hacen para tratar con ella cinematografía escritura todos los s perfectos aquí sin duda lo apreciarás si eres ruso como yo pero incluso si no probablemente lo ames si no habla ruso busque la versión dvd del dvd de ruscico russian cinema cinema tiene subtítulos en unos idiomas diferentes pero el doblaje inglés en este que diría es igual de bueno por supuesto no es tan bueno como la pista rusa original algunas cosas se pierden en la traducción sino tan buenas como los subtítulos en inglés así que vaya a revisarlo especialmente si está estudiando una película en cualquier aspecto    \n",
              "1                                                                                                                                                                             supongo que algunos directores de películas de lujo estaban sentados buscando su abrigo grappa aramangac o jugo de selva alguna noche en los años durante los cannes u otro festival de cine y uno dijo oye chicos hagamos una película donde cada uno de nosotros cree un segmento alrededor una clase mundial aria welllll tipo de tipo de trabajo claramente alguien fue lo suficientemente inteligente como para seleccionar algunas de las mejores grabaciones de las arias elegidas por ejemplo nessun dorma de bjoreling así que si estuvieras ciego y mintiendo en el piso simplemente escuchando el dvd obtuviste más que el valor de tu dinero no todos los directores lo sucedieron pero más lo hicieron lo que no y la película parece mejorar con cada visión a lo largo de los años mi favorito es el dúo de amor inquietantemente hermoso de die tod statd está bien un joven desnudo elizabeth hurley es ojos pero su marido cantó a ella el fantasma de su esposa es increíblemente hermoso con la música del amor segundo solo para gia nella notte densa de otello y desdemona en todo el repertorio operístico podría haber sido mejor el flick seguro lo que no podría haber sido pero vale la pena una visión especialmente de un estado de ánimo hiper romántico    \n",
              "2                                                                                                                                                                                                                                                                                                                                                                                                                                                                                                                                                                                      es difícil contarle más sobre esta película sin estropearla lo disfruté porque no esperaba lo que estaba viendo sino un drama sexual ordinario así que es un thriller de pscyho sexual en el que nada es lo que parece cuenta con emmanuelle seigner sin extraño al género y a la desnudez en la que su esposo polanski la había dirigido y un rendimiento espeluznante dije espeluznante sí espeluznante de toreton el actor de bernard tavernier parece que un pascal bruckner se encuentra con roman polanski mejor que la luna amarga como un chabrol que se fue por extravisos o thriller de clouzot he visto a alguien que menciona les diaboliques pero más cerca de georges franju s les yeux sans visage ojos sin cara lapadrino del dr phibes y más una gema solo me temo que lo hicieran en un remake de hollywood como lo hicieron con nighwatch y la desaparición    \n",
              "3  la película comienza muy lentamente con el estilo de vida de wallace napalm un asistente en una estación de entrega de fotografía su esposa ha sido restringida a su casa con un brazalete de tobillo como resultado de una oración para el incendio wallace es miembro del departamento de bomberos voluntarios y toma en serio incendio en serio observamos el procedimiento de vida bastante aburrida de wallace de repente llega algo nuevo y jarring un carnaval viajero llega a la ciudad una de sus estrellas es wilder napalm el hermano de wallace es un payaso pero tiene un talento especial sobre wallace ambos son pirocinadores ni pirótica personas capaces de iniciar incendios a través de la energía mental wallace mantiene su secreto de poderes wilder le permite conocer a sus conocidos lo que puede hacer spoiler algunas de sus diferencias regresan a un incidente de la infancia donde inadvertidamente causaron la muerte de un vagabundo wallace se espera de usar sus poderes wilder quiere ir al público en la televisión nacional tvelplicando el asunto wilder quiere la esposa de wallace a quienes ambos fechan los años antes se convierte en un hueso de contención y se convierte en una de las razones que los hermanos finalmente tienen una pelea de incendios literales la película es entretenida pero no se ríe graciosa pienso lo suficiente como para tener una copia en mi biblioteca es una buena película offbeat    \n",
              "4                                                                                                                                                                                                                                                                                                                                                                                                                                                                                                                                                                                                                                                                                                                   esta película es verdadera acción en su máxima expresión no es mejor que esto esta es una de esas películas que puedes simplemente comenzar y observar un buen buen disparo sin parar y matar más hay algunas líneas excelentes para acompañar todo esto mi favorito es que hay un chico malo que se está divirtiendo en esta casa de parejas viejas y él está robando un televisor o algo así y él va hasta ellos y grita voy a venir aquí en cualquier momento que me guste y justo antes de saltar por la ventana grita en cualquier momento me refiero a que esto es solo cosas clásicas por lo que tienes una opción puedes ver que el mierda smith intentara ir a una película de acción o puedes ver a uno de los maestros charles bronson    \n",
              "\n",
              "  sentimiento  \n",
              "0    positivo  \n",
              "1    positivo  \n",
              "2    positivo  \n",
              "3    positivo  \n",
              "4    positivo  "
            ],
            "text/html": [
              "\n",
              "  <div id=\"df-f5e61c82-c709-4f6c-93d4-ea1ce202a841\">\n",
              "    <div class=\"colab-df-container\">\n",
              "      <div>\n",
              "<style scoped>\n",
              "    .dataframe tbody tr th:only-of-type {\n",
              "        vertical-align: middle;\n",
              "    }\n",
              "\n",
              "    .dataframe tbody tr th {\n",
              "        vertical-align: top;\n",
              "    }\n",
              "\n",
              "    .dataframe thead th {\n",
              "        text-align: right;\n",
              "    }\n",
              "</style>\n",
              "<table border=\"1\" class=\"dataframe\">\n",
              "  <thead>\n",
              "    <tr style=\"text-align: right;\">\n",
              "      <th></th>\n",
              "      <th>id</th>\n",
              "      <th>review_es</th>\n",
              "      <th>sentimiento</th>\n",
              "    </tr>\n",
              "  </thead>\n",
              "  <tbody>\n",
              "    <tr>\n",
              "      <th>0</th>\n",
              "      <td>0</td>\n",
              "      <td>si está buscando una película de guerra típica esta no es así por lo que una nota a todos los aficionados a la guerra de ansiancia de carnajería de testosterona no se molesten aunque la película se trata de personajes rusos en la segunda guerra mundial no espere ver a ningún nazis cañones sangre sangre etc no es una película sobre las personas que causan una guerra o que luchan contra una guerra es una película sobre las personas ordinarias que le ocurren la guerra y las elecciones que hacen para tratar con ella cinematografía escritura todos los s perfectos aquí sin duda lo apreciarás si eres ruso como yo pero incluso si no probablemente lo ames si no habla ruso busque la versión dvd del dvd de ruscico russian cinema cinema tiene subtítulos en unos idiomas diferentes pero el doblaje inglés en este que diría es igual de bueno por supuesto no es tan bueno como la pista rusa original algunas cosas se pierden en la traducción sino tan buenas como los subtítulos en inglés así que vaya a revisarlo especialmente si está estudiando una película en cualquier aspecto</td>\n",
              "      <td>positivo</td>\n",
              "    </tr>\n",
              "    <tr>\n",
              "      <th>1</th>\n",
              "      <td>1</td>\n",
              "      <td>supongo que algunos directores de películas de lujo estaban sentados buscando su abrigo grappa aramangac o jugo de selva alguna noche en los años durante los cannes u otro festival de cine y uno dijo oye chicos hagamos una película donde cada uno de nosotros cree un segmento alrededor una clase mundial aria welllll tipo de tipo de trabajo claramente alguien fue lo suficientemente inteligente como para seleccionar algunas de las mejores grabaciones de las arias elegidas por ejemplo nessun dorma de bjoreling así que si estuvieras ciego y mintiendo en el piso simplemente escuchando el dvd obtuviste más que el valor de tu dinero no todos los directores lo sucedieron pero más lo hicieron lo que no y la película parece mejorar con cada visión a lo largo de los años mi favorito es el dúo de amor inquietantemente hermoso de die tod statd está bien un joven desnudo elizabeth hurley es ojos pero su marido cantó a ella el fantasma de su esposa es increíblemente hermoso con la música del amor segundo solo para gia nella notte densa de otello y desdemona en todo el repertorio operístico podría haber sido mejor el flick seguro lo que no podría haber sido pero vale la pena una visión especialmente de un estado de ánimo hiper romántico</td>\n",
              "      <td>positivo</td>\n",
              "    </tr>\n",
              "    <tr>\n",
              "      <th>2</th>\n",
              "      <td>2</td>\n",
              "      <td>es difícil contarle más sobre esta película sin estropearla lo disfruté porque no esperaba lo que estaba viendo sino un drama sexual ordinario así que es un thriller de pscyho sexual en el que nada es lo que parece cuenta con emmanuelle seigner sin extraño al género y a la desnudez en la que su esposo polanski la había dirigido y un rendimiento espeluznante dije espeluznante sí espeluznante de toreton el actor de bernard tavernier parece que un pascal bruckner se encuentra con roman polanski mejor que la luna amarga como un chabrol que se fue por extravisos o thriller de clouzot he visto a alguien que menciona les diaboliques pero más cerca de georges franju s les yeux sans visage ojos sin cara lapadrino del dr phibes y más una gema solo me temo que lo hicieran en un remake de hollywood como lo hicieron con nighwatch y la desaparición</td>\n",
              "      <td>positivo</td>\n",
              "    </tr>\n",
              "    <tr>\n",
              "      <th>3</th>\n",
              "      <td>3</td>\n",
              "      <td>la película comienza muy lentamente con el estilo de vida de wallace napalm un asistente en una estación de entrega de fotografía su esposa ha sido restringida a su casa con un brazalete de tobillo como resultado de una oración para el incendio wallace es miembro del departamento de bomberos voluntarios y toma en serio incendio en serio observamos el procedimiento de vida bastante aburrida de wallace de repente llega algo nuevo y jarring un carnaval viajero llega a la ciudad una de sus estrellas es wilder napalm el hermano de wallace es un payaso pero tiene un talento especial sobre wallace ambos son pirocinadores ni pirótica personas capaces de iniciar incendios a través de la energía mental wallace mantiene su secreto de poderes wilder le permite conocer a sus conocidos lo que puede hacer spoiler algunas de sus diferencias regresan a un incidente de la infancia donde inadvertidamente causaron la muerte de un vagabundo wallace se espera de usar sus poderes wilder quiere ir al público en la televisión nacional tvelplicando el asunto wilder quiere la esposa de wallace a quienes ambos fechan los años antes se convierte en un hueso de contención y se convierte en una de las razones que los hermanos finalmente tienen una pelea de incendios literales la película es entretenida pero no se ríe graciosa pienso lo suficiente como para tener una copia en mi biblioteca es una buena película offbeat</td>\n",
              "      <td>positivo</td>\n",
              "    </tr>\n",
              "    <tr>\n",
              "      <th>4</th>\n",
              "      <td>4</td>\n",
              "      <td>esta película es verdadera acción en su máxima expresión no es mejor que esto esta es una de esas películas que puedes simplemente comenzar y observar un buen buen disparo sin parar y matar más hay algunas líneas excelentes para acompañar todo esto mi favorito es que hay un chico malo que se está divirtiendo en esta casa de parejas viejas y él está robando un televisor o algo así y él va hasta ellos y grita voy a venir aquí en cualquier momento que me guste y justo antes de saltar por la ventana grita en cualquier momento me refiero a que esto es solo cosas clásicas por lo que tienes una opción puedes ver que el mierda smith intentara ir a una película de acción o puedes ver a uno de los maestros charles bronson</td>\n",
              "      <td>positivo</td>\n",
              "    </tr>\n",
              "  </tbody>\n",
              "</table>\n",
              "</div>\n",
              "      <button class=\"colab-df-convert\" onclick=\"convertToInteractive('df-f5e61c82-c709-4f6c-93d4-ea1ce202a841')\"\n",
              "              title=\"Convert this dataframe to an interactive table.\"\n",
              "              style=\"display:none;\">\n",
              "        \n",
              "  <svg xmlns=\"http://www.w3.org/2000/svg\" height=\"24px\"viewBox=\"0 0 24 24\"\n",
              "       width=\"24px\">\n",
              "    <path d=\"M0 0h24v24H0V0z\" fill=\"none\"/>\n",
              "    <path d=\"M18.56 5.44l.94 2.06.94-2.06 2.06-.94-2.06-.94-.94-2.06-.94 2.06-2.06.94zm-11 1L8.5 8.5l.94-2.06 2.06-.94-2.06-.94L8.5 2.5l-.94 2.06-2.06.94zm10 10l.94 2.06.94-2.06 2.06-.94-2.06-.94-.94-2.06-.94 2.06-2.06.94z\"/><path d=\"M17.41 7.96l-1.37-1.37c-.4-.4-.92-.59-1.43-.59-.52 0-1.04.2-1.43.59L10.3 9.45l-7.72 7.72c-.78.78-.78 2.05 0 2.83L4 21.41c.39.39.9.59 1.41.59.51 0 1.02-.2 1.41-.59l7.78-7.78 2.81-2.81c.8-.78.8-2.07 0-2.86zM5.41 20L4 18.59l7.72-7.72 1.47 1.35L5.41 20z\"/>\n",
              "  </svg>\n",
              "      </button>\n",
              "      \n",
              "  <style>\n",
              "    .colab-df-container {\n",
              "      display:flex;\n",
              "      flex-wrap:wrap;\n",
              "      gap: 12px;\n",
              "    }\n",
              "\n",
              "    .colab-df-convert {\n",
              "      background-color: #E8F0FE;\n",
              "      border: none;\n",
              "      border-radius: 50%;\n",
              "      cursor: pointer;\n",
              "      display: none;\n",
              "      fill: #1967D2;\n",
              "      height: 32px;\n",
              "      padding: 0 0 0 0;\n",
              "      width: 32px;\n",
              "    }\n",
              "\n",
              "    .colab-df-convert:hover {\n",
              "      background-color: #E2EBFA;\n",
              "      box-shadow: 0px 1px 2px rgba(60, 64, 67, 0.3), 0px 1px 3px 1px rgba(60, 64, 67, 0.15);\n",
              "      fill: #174EA6;\n",
              "    }\n",
              "\n",
              "    [theme=dark] .colab-df-convert {\n",
              "      background-color: #3B4455;\n",
              "      fill: #D2E3FC;\n",
              "    }\n",
              "\n",
              "    [theme=dark] .colab-df-convert:hover {\n",
              "      background-color: #434B5C;\n",
              "      box-shadow: 0px 1px 3px 1px rgba(0, 0, 0, 0.15);\n",
              "      filter: drop-shadow(0px 1px 2px rgba(0, 0, 0, 0.3));\n",
              "      fill: #FFFFFF;\n",
              "    }\n",
              "  </style>\n",
              "\n",
              "      <script>\n",
              "        const buttonEl =\n",
              "          document.querySelector('#df-f5e61c82-c709-4f6c-93d4-ea1ce202a841 button.colab-df-convert');\n",
              "        buttonEl.style.display =\n",
              "          google.colab.kernel.accessAllowed ? 'block' : 'none';\n",
              "\n",
              "        async function convertToInteractive(key) {\n",
              "          const element = document.querySelector('#df-f5e61c82-c709-4f6c-93d4-ea1ce202a841');\n",
              "          const dataTable =\n",
              "            await google.colab.kernel.invokeFunction('convertToInteractive',\n",
              "                                                     [key], {});\n",
              "          if (!dataTable) return;\n",
              "\n",
              "          const docLinkHtml = 'Like what you see? Visit the ' +\n",
              "            '<a target=\"_blank\" href=https://colab.research.google.com/notebooks/data_table.ipynb>data table notebook</a>'\n",
              "            + ' to learn more about interactive tables.';\n",
              "          element.innerHTML = '';\n",
              "          dataTable['output_type'] = 'display_data';\n",
              "          await google.colab.output.renderOutput(dataTable, element);\n",
              "          const docLink = document.createElement('div');\n",
              "          docLink.innerHTML = docLinkHtml;\n",
              "          element.appendChild(docLink);\n",
              "        }\n",
              "      </script>\n",
              "    </div>\n",
              "  </div>\n",
              "  "
            ]
          },
          "metadata": {},
          "execution_count": 158
        }
      ]
    },
    {
      "cell_type": "markdown",
      "source": [
        "### Diviendo los comments etiquetados en los conjuntos de entrenamiento y prueba"
      ],
      "metadata": {
        "id": "OWw3U1chbCsk"
      }
    },
    {
      "cell_type": "code",
      "source": [
        "# Cuando se cuenta con muy pocos datos etiquetados, por lo general se debe disponer de una menor cantidad de datos para evaluación\n",
        "X_train, X_test, y_train, y_test = train_test_split(comments_labeled_df['review_es'], comments_labeled_df['sentimiento'], test_size = 0.2, random_state = 1)"
      ],
      "metadata": {
        "id": "PjfZhQ-2a-PE"
      },
      "execution_count": 159,
      "outputs": []
    },
    {
      "cell_type": "code",
      "source": [
        "X_train.shape"
      ],
      "metadata": {
        "colab": {
          "base_uri": "https://localhost:8080/"
        },
        "id": "Rz-BNJq5baGy",
        "outputId": "54e10ddf-0bc3-4c2e-a542-8e9fa85d3b71"
      },
      "execution_count": 160,
      "outputs": [
        {
          "output_type": "execute_result",
          "data": {
            "text/plain": [
              "(4000,)"
            ]
          },
          "metadata": {},
          "execution_count": 160
        }
      ]
    },
    {
      "cell_type": "code",
      "source": [
        "pd.Series(y_train).value_counts(normalize = True)"
      ],
      "metadata": {
        "colab": {
          "base_uri": "https://localhost:8080/"
        },
        "id": "g4xoEYMUbd8i",
        "outputId": "c0f7f226-bc5c-4358-a0e4-6b06490a7bf9"
      },
      "execution_count": 161,
      "outputs": [
        {
          "output_type": "execute_result",
          "data": {
            "text/plain": [
              "negativo    0.5015\n",
              "positivo    0.4985\n",
              "Name: sentimiento, dtype: float64"
            ]
          },
          "metadata": {},
          "execution_count": 161
        }
      ]
    },
    {
      "cell_type": "code",
      "source": [
        "X_test.shape"
      ],
      "metadata": {
        "colab": {
          "base_uri": "https://localhost:8080/"
        },
        "id": "YWbTqZ8nbgoY",
        "outputId": "db80d488-73df-44fc-d0b6-0221eee9133f"
      },
      "execution_count": 162,
      "outputs": [
        {
          "output_type": "execute_result",
          "data": {
            "text/plain": [
              "(1000,)"
            ]
          },
          "metadata": {},
          "execution_count": 162
        }
      ]
    },
    {
      "cell_type": "code",
      "source": [
        "pd.Series(y_test).value_counts(normalize = True)"
      ],
      "metadata": {
        "colab": {
          "base_uri": "https://localhost:8080/"
        },
        "id": "tZmHpkESbjI4",
        "outputId": "e526d2a3-7281-4d84-fb7d-a89cffc8b659"
      },
      "execution_count": 163,
      "outputs": [
        {
          "output_type": "execute_result",
          "data": {
            "text/plain": [
              "positivo    0.506\n",
              "negativo    0.494\n",
              "Name: sentimiento, dtype: float64"
            ]
          },
          "metadata": {},
          "execution_count": 163
        }
      ]
    },
    {
      "cell_type": "markdown",
      "source": [
        "#Vectorizar Comentarios"
      ],
      "metadata": {
        "id": "9cpykwogbng0"
      }
    },
    {
      "cell_type": "code",
      "source": [
        "X_train.head()"
      ],
      "metadata": {
        "colab": {
          "base_uri": "https://localhost:8080/"
        },
        "id": "DvAyogXibkrM",
        "outputId": "5f9f0289-3889-4f89-fbe6-ecb3b512903b"
      },
      "execution_count": 164,
      "outputs": [
        {
          "output_type": "execute_result",
          "data": {
            "text/plain": [
              "1233                                                                                                                                                                                                                                                                                                                                                                                                                                                                                                                                                                                                                                                                                                                                                                                                                                                                                                                                                                                                                                                                                                                                                                                                                                                                                                                                                                                                                                                                                                                                                                                                                                                                                                                                                                                                                                                                                           cuando un administrador de orfanato se va de vacaciones su padre se hace cargo de los detalles del centro y los resultados alquilan a los niños cuando un pozo me hizo una pareja con un bonito apartamento y una gran vida la idea de adoptar esta idea fue hecha a medida para ellos por qué querrían estropear su existencia elegante con un trío de enredaderas de alfombras de cerebro a pelo de ninguna manera a las personas les gustaría que estas dos necesitaban que los niños hicieran que la vida sea maravillosa esta película lo hace parecer que el mundo real funciona de esta manera pero soy la imagen de la dubividad \n",
              "1056                                                                                                                                                                                                                                                                                                                                                                                                                                                                                                                                                                                                                                                                                                                                                                                                                                                                                                                                                                                                                                                                                                                                                                                                                                                                                                                                                                                                                                                                                                                                                                                                                                                                                                                    ay dios mío realmente puedo decir que maya angelou es una de las personas más intrigantes e importantes del mundo especialmente de mi cultura es increíblemente inspiradora y su historia es la historia de una gran mujer cuando escogí por primera vez esta película pensé para mí mismo el reparto fue maravillosamente juntado ahora veamos en acción maya angelou ya es mi poetisa favorita y ahora una de mis actrices y oradores favoritos creo que ella es la más grande de todos los tiempos esta película me tenía en el borde de mi asiento y alcanzando kleenex mientras que al mismo tiempo me recordó que no importa de dónde vengas si decides que vas a ser genial serás genial y el éster rolle jugó un maravilloso papel de apoyo increíble y ahora incluso sé por qué suena el ave enjaulada \n",
              "1686    las personas de aardman han hecho una adaptación fresca linda y salvaje de sus cortometrajes de wallace y gromit para largometraje como el hombre y su perro inventores que parecen tener más de la inteligencia o practicidad para este último en este caso han inventado una máquina que puede capturar a todos los conejitos que están comiendo los cultivos en toda un tranquilo pueblo inglés en particular para la sra tottington o toty para aquellos que son íntimos mucho para el disgusto de victor quartermaine que solo quiere matar a todos los conejos con su rifle de confianza wallace y gromit parecen tener éxito con su máquina pero wallace tiene una mezcla una máquina que ha hecho para hacer más comida repentinamente cruce cruce con un conejo la maldición está encendida mucho de esto se trata de una diversión tan alegre de que la película de un niño podría pedir pero también conseja su sombrero a la tradición más antigua en el clásico de dibujos animados slapstick looney tunes que a su vez está en deuda con mucha comedia silenciosa y vaudeville por supuesto los chicos de aardman nick park y steve box tienen un agrupamiento más trucos y trucos e ingenio con su material nunca es menos que sorprendente ver cómo ponen el movimiento de parada para usar incluso cuando una broma o una mordaza puede estar un poco en el lado divertido ho ho no divertido ha ha una crítica cansada pero yo lo dirá la maldición de los ween rabbit funciona tan bien en todos los frentes de la audiencia en su historia deformada y dips repentinos en la exposición the golden bullet story es un doozy park and box y company nunca pierden de vista a glee en el material fuzzy y cálido y completamente fuera de la pared para los niños incluso los más pequeños les encantarán las aventuras y los extraños gadgets como el camión wallace y gromit enrollar a su alrededor y para adultos hay pequeñas barbas de funky absurdo tonos en medio de una farsa clásica inglesa solo y probablemente soy una opinión minoritaria aquí en comparación con el pollo es casi un poco ligero un trabajo hay menos parcela que una serie de gags que corren y por supuesto muchos juegos de palabras que involucran conejitos y monstruos y carnavales y queso y hombres horribles con egos en sus armas como las fiennes que expresaron el cuatremaína pero cuando lo mejor es una de las películas más entretenidas de me da una gran sonrisa tonta en cualquier momento en la televisión \n",
              "187                                                                                                                                                                                                                                                                                                                                                                                                                                                                                                                                                                                                                                                                                                                                                                                                                                                                                                                                                                                                                                                                                                                                                                                                                                                                                                                                                                                                                                                                                                                                                                                                                                                                                                                                                                                                                                                                                                                                                                                                                                                                                                                                                               disfruté de esta película a diferencia de algunos de los bombeados la basura esteroides que se transmite como películas de acción tocar a dios es simple y realista con personajes que son creíbles la acción que no está sobre la cima y los giros suficientes y los giros para mantenerte interesado hasta el final buel dirigido bien actuado y una buena historia \n",
              "3840                                                                                                                                                                                                                                                                                                                                                                                                                                              cuál es el f fue esto que acabo de ver steven stop por favor esta película es insacialmente mala y tonta en una extraña salida de la acción y la aventura el sr seagal ahora está luchando obviamente wish was was wean vampire como criaturas con súper fuerza humana ok oh y sus ojos parpadean de lado hacia un lado de forma inhumana guau sin embargo incluso en esta película sin embargo para que los seegures se conviertan en ego último punch and ni one can kick my a ego de alguna manera es más fuerte de lo que son sin embargo todos los humanos promedio se están aplastando a su alrededor vamos puedo entender el bullido del vecindario de la boca grande o el traficante de drogas pero estas son personas súper fuertes humanas ah y obtenga esto seagal pasa por una breve picadura de problemas de identidad porque al parecer él y sus cohortes en la película creen que es wolverine oh mi ir y peor que todo eso sí hay un peor que eso él tiene una voz sobre incluso cambiar la voz a la mitad de la oración mientras estamos mirando su rostro obviamente no suenan nada como él y creo que puede ser uno de los otros actores en la película fue pura locura aunque quería apagarlo siempre veo una película para terminar esto es un tiempo más bajo incluso para sus películas directas de video steven horrible horrible horrible dos pulgares abajo cualidades de redención bueno supongo que sí seré justo en ese aspecto al menos algunos de los efectos especiales estaban bien y me gusta la elección del guardarropa para los actores y actrices todas las mujeres eran bastante atractivas imo aún así y dije aún así no se compensa para los negros x men underworld inserte tu zombie favorita la película de vampiros aquí arranca el director escritor productor todos deberían ser bansihed exile del negocio de la película creo que siento la forma en que la mayoría de las personas se sienten por la sangre rayne y casi todas las demás imágenes de uwe boll sobre esta película ese es todo mi en esta película ver si te atreves \n",
              "Name: review_es, dtype: object"
            ]
          },
          "metadata": {},
          "execution_count": 164
        }
      ]
    },
    {
      "cell_type": "code",
      "source": [
        "tfidf = TfidfVectorizer(analyzer = 'word',tokenizer = tokenizer, stop_words = spanish_stopwords, lowercase = True)"
      ],
      "metadata": {
        "id": "LyvVBNQObu2p"
      },
      "execution_count": 165,
      "outputs": []
    },
    {
      "cell_type": "code",
      "source": [
        "X_tfidf = tfidf.fit_transform(X_train.values.astype('U'))"
      ],
      "metadata": {
        "colab": {
          "base_uri": "https://localhost:8080/"
        },
        "id": "5ryQu1eHcKlv",
        "outputId": "5ac6c33c-06b4-432a-c019-e443468c2259"
      },
      "execution_count": 166,
      "outputs": [
        {
          "output_type": "stream",
          "name": "stderr",
          "text": [
            "/usr/local/lib/python3.9/dist-packages/sklearn/feature_extraction/text.py:528: UserWarning: The parameter 'token_pattern' will not be used since 'tokenizer' is not None'\n",
            "  warnings.warn(\n"
          ]
        }
      ]
    },
    {
      "cell_type": "code",
      "source": [
        "X_tfidf"
      ],
      "metadata": {
        "colab": {
          "base_uri": "https://localhost:8080/"
        },
        "id": "OBB7FOv0l72d",
        "outputId": "8928f828-c0ba-46a5-c948-3cfc198c9277"
      },
      "execution_count": 167,
      "outputs": [
        {
          "output_type": "execute_result",
          "data": {
            "text/plain": [
              "<4000x50531 sparse matrix of type '<class 'numpy.float64'>'\n",
              "\twith 410002 stored elements in Compressed Sparse Row format>"
            ]
          },
          "metadata": {},
          "execution_count": 167
        }
      ]
    },
    {
      "cell_type": "code",
      "source": [
        "len(tfidf.vocabulary_)"
      ],
      "metadata": {
        "colab": {
          "base_uri": "https://localhost:8080/"
        },
        "id": "piaysekEdcby",
        "outputId": "dd994d56-1664-4103-d661-74b69ee6f785"
      },
      "execution_count": 168,
      "outputs": [
        {
          "output_type": "execute_result",
          "data": {
            "text/plain": [
              "50531"
            ]
          },
          "metadata": {},
          "execution_count": 168
        }
      ]
    },
    {
      "cell_type": "markdown",
      "source": [
        "### Entrenando y evaluando un modelo usado TF-IDF"
      ],
      "metadata": {
        "id": "uKRvWQwhmNdH"
      }
    },
    {
      "cell_type": "code",
      "source": [
        "randomForest_model = RandomForestClassifier(random_state = 3, n_estimators = 500)"
      ],
      "metadata": {
        "id": "o5rzdyXxmROU"
      },
      "execution_count": 169,
      "outputs": []
    },
    {
      "cell_type": "code",
      "source": [
        "randomForest_model.fit(X_tfidf, y_train)"
      ],
      "metadata": {
        "colab": {
          "base_uri": "https://localhost:8080/",
          "height": 75
        },
        "id": "exEcc0ynmTiM",
        "outputId": "8043f203-f92e-4234-8333-175a5dbffeb0"
      },
      "execution_count": 170,
      "outputs": [
        {
          "output_type": "execute_result",
          "data": {
            "text/plain": [
              "RandomForestClassifier(n_estimators=500, random_state=3)"
            ],
            "text/html": [
              "<style>#sk-container-id-2 {color: black;background-color: white;}#sk-container-id-2 pre{padding: 0;}#sk-container-id-2 div.sk-toggleable {background-color: white;}#sk-container-id-2 label.sk-toggleable__label {cursor: pointer;display: block;width: 100%;margin-bottom: 0;padding: 0.3em;box-sizing: border-box;text-align: center;}#sk-container-id-2 label.sk-toggleable__label-arrow:before {content: \"▸\";float: left;margin-right: 0.25em;color: #696969;}#sk-container-id-2 label.sk-toggleable__label-arrow:hover:before {color: black;}#sk-container-id-2 div.sk-estimator:hover label.sk-toggleable__label-arrow:before {color: black;}#sk-container-id-2 div.sk-toggleable__content {max-height: 0;max-width: 0;overflow: hidden;text-align: left;background-color: #f0f8ff;}#sk-container-id-2 div.sk-toggleable__content pre {margin: 0.2em;color: black;border-radius: 0.25em;background-color: #f0f8ff;}#sk-container-id-2 input.sk-toggleable__control:checked~div.sk-toggleable__content {max-height: 200px;max-width: 100%;overflow: auto;}#sk-container-id-2 input.sk-toggleable__control:checked~label.sk-toggleable__label-arrow:before {content: \"▾\";}#sk-container-id-2 div.sk-estimator input.sk-toggleable__control:checked~label.sk-toggleable__label {background-color: #d4ebff;}#sk-container-id-2 div.sk-label input.sk-toggleable__control:checked~label.sk-toggleable__label {background-color: #d4ebff;}#sk-container-id-2 input.sk-hidden--visually {border: 0;clip: rect(1px 1px 1px 1px);clip: rect(1px, 1px, 1px, 1px);height: 1px;margin: -1px;overflow: hidden;padding: 0;position: absolute;width: 1px;}#sk-container-id-2 div.sk-estimator {font-family: monospace;background-color: #f0f8ff;border: 1px dotted black;border-radius: 0.25em;box-sizing: border-box;margin-bottom: 0.5em;}#sk-container-id-2 div.sk-estimator:hover {background-color: #d4ebff;}#sk-container-id-2 div.sk-parallel-item::after {content: \"\";width: 100%;border-bottom: 1px solid gray;flex-grow: 1;}#sk-container-id-2 div.sk-label:hover label.sk-toggleable__label {background-color: #d4ebff;}#sk-container-id-2 div.sk-serial::before {content: \"\";position: absolute;border-left: 1px solid gray;box-sizing: border-box;top: 0;bottom: 0;left: 50%;z-index: 0;}#sk-container-id-2 div.sk-serial {display: flex;flex-direction: column;align-items: center;background-color: white;padding-right: 0.2em;padding-left: 0.2em;position: relative;}#sk-container-id-2 div.sk-item {position: relative;z-index: 1;}#sk-container-id-2 div.sk-parallel {display: flex;align-items: stretch;justify-content: center;background-color: white;position: relative;}#sk-container-id-2 div.sk-item::before, #sk-container-id-2 div.sk-parallel-item::before {content: \"\";position: absolute;border-left: 1px solid gray;box-sizing: border-box;top: 0;bottom: 0;left: 50%;z-index: -1;}#sk-container-id-2 div.sk-parallel-item {display: flex;flex-direction: column;z-index: 1;position: relative;background-color: white;}#sk-container-id-2 div.sk-parallel-item:first-child::after {align-self: flex-end;width: 50%;}#sk-container-id-2 div.sk-parallel-item:last-child::after {align-self: flex-start;width: 50%;}#sk-container-id-2 div.sk-parallel-item:only-child::after {width: 0;}#sk-container-id-2 div.sk-dashed-wrapped {border: 1px dashed gray;margin: 0 0.4em 0.5em 0.4em;box-sizing: border-box;padding-bottom: 0.4em;background-color: white;}#sk-container-id-2 div.sk-label label {font-family: monospace;font-weight: bold;display: inline-block;line-height: 1.2em;}#sk-container-id-2 div.sk-label-container {text-align: center;}#sk-container-id-2 div.sk-container {/* jupyter's `normalize.less` sets `[hidden] { display: none; }` but bootstrap.min.css set `[hidden] { display: none !important; }` so we also need the `!important` here to be able to override the default hidden behavior on the sphinx rendered scikit-learn.org. See: https://github.com/scikit-learn/scikit-learn/issues/21755 */display: inline-block !important;position: relative;}#sk-container-id-2 div.sk-text-repr-fallback {display: none;}</style><div id=\"sk-container-id-2\" class=\"sk-top-container\"><div class=\"sk-text-repr-fallback\"><pre>RandomForestClassifier(n_estimators=500, random_state=3)</pre><b>In a Jupyter environment, please rerun this cell to show the HTML representation or trust the notebook. <br />On GitHub, the HTML representation is unable to render, please try loading this page with nbviewer.org.</b></div><div class=\"sk-container\" hidden><div class=\"sk-item\"><div class=\"sk-estimator sk-toggleable\"><input class=\"sk-toggleable__control sk-hidden--visually\" id=\"sk-estimator-id-2\" type=\"checkbox\" checked><label for=\"sk-estimator-id-2\" class=\"sk-toggleable__label sk-toggleable__label-arrow\">RandomForestClassifier</label><div class=\"sk-toggleable__content\"><pre>RandomForestClassifier(n_estimators=500, random_state=3)</pre></div></div></div></div></div>"
            ]
          },
          "metadata": {},
          "execution_count": 170
        }
      ]
    },
    {
      "cell_type": "code",
      "source": [
        "pd.Series(randomForest_model.feature_importances_, index = tfidf.vocabulary_).sort_values().tail(20).plot.barh(figsize = (15, 10))"
      ],
      "metadata": {
        "colab": {
          "base_uri": "https://localhost:8080/",
          "height": 847
        },
        "id": "VIXpY5dYmgbY",
        "outputId": "7295edbf-ee36-432c-a88a-52b8238f5c45"
      },
      "execution_count": 171,
      "outputs": [
        {
          "output_type": "execute_result",
          "data": {
            "text/plain": [
              "<Axes: >"
            ]
          },
          "metadata": {},
          "execution_count": 171
        },
        {
          "output_type": "display_data",
          "data": {
            "text/plain": [
              "<Figure size 1500x1000 with 1 Axes>"
            ],
            "image/png": "[encoded data removed]"
          },
          "metadata": {}
        }
      ]
    },
    {
      "cell_type": "code",
      "source": [
        "randomForest_estimators = randomForest_model.estimators_\n",
        "print('Number of trees:', len(randomForest_estimators))\n",
        "print('Trees depth (mean):', np.mean([tree.get_depth() for tree in randomForest_estimators]))"
      ],
      "metadata": {
        "colab": {
          "base_uri": "https://localhost:8080/"
        },
        "id": "vN9_laItmqtr",
        "outputId": "a4d5e869-9a10-4eea-ae84-adee48d3cf2d"
      },
      "execution_count": 172,
      "outputs": [
        {
          "output_type": "stream",
          "name": "stdout",
          "text": [
            "Number of trees: 500\n",
            "Trees depth (mean): 166.67\n"
          ]
        }
      ]
    },
    {
      "cell_type": "code",
      "source": [
        "y_train_randomForest_predict = randomForest_model.predict(X_tfidf)\n",
        "y_test_randomForest_predict = randomForest_model.predict(tfidf.transform(X_test.values.astype('U')))"
      ],
      "metadata": {
        "id": "7xXqPxhWm0sv"
      },
      "execution_count": 173,
      "outputs": []
    },
    {
      "cell_type": "code",
      "source": [
        "ConfusionMatrixDisplay.from_predictions(y_train, y_train_randomForest_predict)"
      ],
      "metadata": {
        "colab": {
          "base_uri": "https://localhost:8080/",
          "height": 475
        },
        "id": "hA8JAVLom5Ep",
        "outputId": "8a575ecb-44e0-4c28-dc69-3bc888827ee3"
      },
      "execution_count": 174,
      "outputs": [
        {
          "output_type": "execute_result",
          "data": {
            "text/plain": [
              "<sklearn.metrics._plot.confusion_matrix.ConfusionMatrixDisplay at 0x7f7de5d69fa0>"
            ]
          },
          "metadata": {},
          "execution_count": 174
        },
        {
          "output_type": "display_data",
          "data": {
            "text/plain": [
              "<Figure size 640x480 with 2 Axes>"
            ],
            "image/png": "[encoded data removed]"
          },
          "metadata": {}
        }
      ]
    },
    {
      "cell_type": "code",
      "source": [
        "ConfusionMatrixDisplay.from_predictions(y_test, y_test_randomForest_predict)"
      ],
      "metadata": {
        "colab": {
          "base_uri": "https://localhost:8080/",
          "height": 471
        },
        "id": "jNsbg9_rx0ls",
        "outputId": "c32d2ef9-27a9-4d58-8418-334662998e80"
      },
      "execution_count": 177,
      "outputs": [
        {
          "output_type": "execute_result",
          "data": {
            "text/plain": [
              "<sklearn.metrics._plot.confusion_matrix.ConfusionMatrixDisplay at 0x7f7de5d69d60>"
            ]
          },
          "metadata": {},
          "execution_count": 177
        },
        {
          "output_type": "display_data",
          "data": {
            "text/plain": [
              "<Figure size 640x480 with 2 Axes>"
            ],
            "image/png": "[encoded data removed]"
          },
          "metadata": {}
        }
      ]
    },
    {
      "cell_type": "code",
      "source": [
        "if len(randomForest_model.classes_) == 2:\n",
        "    print('Precision:', precision_score(y_train, y_train_randomForest_predict, pos_label = 'positivo'))\n",
        "    print('Recall:', recall_score(y_train, y_train_randomForest_predict, pos_label = 'positivo'))\n",
        "    print('F1:', f1_score(y_train, y_train_randomForest_predict, pos_label = 'positivo'))\n",
        "else:\n",
        "    # Para casos no binarios, es común calcular las métricas para cada clase\n",
        "    print('Precision:', precision_score(y_train, y_train_randomForest_predict, average = None))\n",
        "    print('Recall:', recall_score(y_train, y_train_randomForest_predict, average = None))\n",
        "    print('F1:', f1_score(y_train, y_train_randomForest_predict, average = None))"
      ],
      "metadata": {
        "colab": {
          "base_uri": "https://localhost:8080/"
        },
        "id": "BR3wMoxDnEw7",
        "outputId": "7055d6dd-bc7d-4905-bf45-0e5b782f55c5"
      },
      "execution_count": 175,
      "outputs": [
        {
          "output_type": "stream",
          "name": "stdout",
          "text": [
            "Precision: 1.0\n",
            "Recall: 1.0\n",
            "F1: 1.0\n"
          ]
        }
      ]
    },
    {
      "cell_type": "code",
      "source": [
        "if len(randomForest_model.classes_) == 2:\n",
        "    print('Precision:', precision_score(y_test, y_test_randomForest_predict, pos_label = 'positivo'))\n",
        "    print('Recall:', recall_score(y_test, y_test_randomForest_predict, pos_label = 'positivo'))\n",
        "    print('F1:', f1_score(y_test, y_test_randomForest_predict, pos_label = 'positivo'))\n",
        "else:\n",
        "    # Para casos no binarios, es común calcular las métricas para cada clase\n",
        "    print('Precision:', precision_score(y_test, y_test_randomForest_predict, average = None))\n",
        "    print('Recall:', recall_score(y_test, y_test_randomForest_predict, average = None))\n",
        "    print('F1:', f1_score(y_test, y_test_randomForest_predict, average = None))"
      ],
      "metadata": {
        "colab": {
          "base_uri": "https://localhost:8080/"
        },
        "id": "5FTxzkjzn32W",
        "outputId": "1019bb58-28fa-4769-f343-f3310007f24d"
      },
      "execution_count": 176,
      "outputs": [
        {
          "output_type": "stream",
          "name": "stdout",
          "text": [
            "Precision: 0.8163265306122449\n",
            "Recall: 0.7905138339920948\n",
            "F1: 0.8032128514056225\n"
          ]
        }
      ]
    }
  ]
}